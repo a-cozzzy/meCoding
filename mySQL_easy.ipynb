{
 "cells": [
  {
   "cell_type": "markdown",
   "metadata": {},
   "source": [
    "## SELECT statements"
   ]
  },
  {
   "cell_type": "code",
   "execution_count": null,
   "metadata": {
    "vscode": {
     "languageId": "plaintext"
    }
   },
   "outputs": [],
   "source": [
    "1757. Recyclable and Low Fat Products\n",
    "\n",
    "SELECT product_id\n",
    "FROM Products \n",
    "WHERE low_fats = 'Y' AND recyclable = 'Y'"
   ]
  },
  {
   "cell_type": "code",
   "execution_count": null,
   "metadata": {
    "vscode": {
     "languageId": "plaintext"
    }
   },
   "outputs": [],
   "source": [
    "584. Find Customer Referee\n",
    "\n",
    "select name\n",
    "from Customer\n",
    "WHERE referee_id <> 2 OR referee_id IS NULL"
   ]
  },
  {
   "cell_type": "code",
   "execution_count": null,
   "metadata": {
    "vscode": {
     "languageId": "plaintext"
    }
   },
   "outputs": [],
   "source": [
    "595. Big Countries\n",
    "\n",
    "SELECT name, population, area\n",
    "FROM World\n",
    "WHERE area>=3000000 or population>=25000000"
   ]
  },
  {
   "cell_type": "code",
   "execution_count": null,
   "metadata": {
    "vscode": {
     "languageId": "plaintext"
    }
   },
   "outputs": [],
   "source": [
    "1148. Article Views I\n",
    "\n",
    "SELECT DISTINCT author_id AS id\n",
    "FROM Views\n",
    "WHERE author_id = viewer_id\n",
    "ORDER BY id;"
   ]
  },
  {
   "cell_type": "code",
   "execution_count": null,
   "metadata": {
    "vscode": {
     "languageId": "plaintext"
    }
   },
   "outputs": [],
   "source": [
    "1683. Invalid Tweets\n",
    "\n",
    "select tweet_id\n",
    "from Tweets\n",
    "where length(content) >15"
   ]
  },
  {
   "cell_type": "markdown",
   "metadata": {},
   "source": [
    "## Basic JOIN"
   ]
  },
  {
   "cell_type": "code",
   "execution_count": null,
   "metadata": {
    "vscode": {
     "languageId": "plaintext"
    }
   },
   "outputs": [],
   "source": [
    "1378. Replace Employee ID With The Unique Identifier\n",
    "\n",
    "select EmployeeUNI.unique_id, Employees.name\n",
    "from Employees \n",
    "left join EmployeeUNI on Employees.id = EmployeeUNI.id"
   ]
  },
  {
   "cell_type": "code",
   "execution_count": null,
   "metadata": {
    "vscode": {
     "languageId": "plaintext"
    }
   },
   "outputs": [],
   "source": [
    "1068. Product Sales Analysis I\n",
    "\n",
    "select Product.product_name, Sales.year, Sales.price\n",
    "from Sales\n",
    "left join Product on Sales.product_id = Product.product_id;"
   ]
  },
  {
   "cell_type": "code",
   "execution_count": null,
   "metadata": {
    "vscode": {
     "languageId": "plaintext"
    }
   },
   "outputs": [],
   "source": [
    "1581. Customer Who Visited but Did Not Make Any Transactions\n",
    "\n",
    "select v.customer_id, count(v.visit_id) as count_no_trans\n",
    "from Visits v\n",
    "left join Transactions t \n",
    "ON v.visit_id = t.visit_id\n",
    "where t.transaction_id is null\n",
    "group by v.customer_id;"
   ]
  },
  {
   "cell_type": "code",
   "execution_count": null,
   "metadata": {
    "vscode": {
     "languageId": "plaintext"
    }
   },
   "outputs": [],
   "source": [
    "197. Rising Temperature\n",
    "\n",
    "select w1.id\n",
    "from Weather w1\n",
    "join Weather w2 on w1.recordDate = DATE_ADD(w2.recordDate, interval 1 day)\n",
    "where w1.temperature > w2.temperature"
   ]
  },
  {
   "cell_type": "code",
   "execution_count": null,
   "metadata": {
    "vscode": {
     "languageId": "plaintext"
    }
   },
   "outputs": [],
   "source": [
    "1661. Average Time of Process per Machine\n",
    "\n",
    "select a1.machine_id, round(avg(a2.timestamp-a1.timestamp), 3) as processing_time \n",
    "from Activity a1\n",
    "join Activity a2 \n",
    "on a1.machine_id=a2.machine_id and a1.process_id=a2.process_id\n",
    "and a1.activity_type='start' and a2.activity_type='end'\n",
    "group by a1.machine_id"
   ]
  },
  {
   "cell_type": "code",
   "execution_count": null,
   "metadata": {
    "vscode": {
     "languageId": "plaintext"
    }
   },
   "outputs": [],
   "source": [
    "577. Employee Bonus\n",
    "\n",
    "select e.name, b.bonus\n",
    "from Employee e\n",
    "left join Bonus b on e.empId = b.empId\n",
    "where bonus<1000 or bonus is null;"
   ]
  },
  {
   "cell_type": "code",
   "execution_count": null,
   "metadata": {
    "vscode": {
     "languageId": "plaintext"
    }
   },
   "outputs": [],
   "source": [
    "1280. Students and Examinations\n",
    "\n",
    "select s.student_id, s.student_name, sub.subject_name, coalesce(count(e.student_id),0) as attended_exams\n",
    "from Students s\n",
    "cross join Subjects sub\n",
    "left join Examinations e \n",
    "on s.student_id = e.student_id\n",
    "and sub.subject_name = e.subject_name\n",
    "group by s.student_id, s.student_name, sub.subject_name\n",
    "order by s.student_id, sub.subject_name;"
   ]
  },
  {
   "cell_type": "code",
   "execution_count": null,
   "metadata": {
    "vscode": {
     "languageId": "plaintext"
    }
   },
   "outputs": [],
   "source": [
    "570. Managers with at Least 5 Direct Reports\n",
    "\n",
    "select e.name from Employee e\n",
    "inner join Employee m on e.id = m.managerId\n",
    "group by m.managerId\n",
    "having count(m.managerId) >=5"
   ]
  },
  {
   "cell_type": "code",
   "execution_count": null,
   "metadata": {
    "vscode": {
     "languageId": "plaintext"
    }
   },
   "outputs": [],
   "source": [
    "1934. Confirmation Rate\n",
    "\n",
    "select s.user_id, round(avg(if(c.action=\"confirmed\",1,0)),2) as confirmation_rate\n",
    "from Signups s\n",
    "left join Confirmations c \n",
    "on s.user_id = c.user_id\n",
    "group by user_id"
   ]
  },
  {
   "cell_type": "markdown",
   "metadata": {},
   "source": [
    "## Basic Aggregate Functions"
   ]
  },
  {
   "cell_type": "code",
   "execution_count": null,
   "metadata": {
    "vscode": {
     "languageId": "plaintext"
    }
   },
   "outputs": [],
   "source": [
    "620. Not Boring Movies\n",
    "\n",
    "select * \n",
    "from Cinema \n",
    "where id%2!=0 and description != \"boring\" \n",
    "order by rating desc;"
   ]
  },
  {
   "cell_type": "code",
   "execution_count": null,
   "metadata": {
    "vscode": {
     "languageId": "plaintext"
    }
   },
   "outputs": [],
   "source": [
    "1251. Average Selling Price\n",
    "\n",
    "select p.product_id, ifnull(round(sum(u.units*p.price)/nullif(sum(u.units),0),2),0) as average_price\n",
    "from Prices p\n",
    "left join UnitsSold u on p.product_id = u.product_id\n",
    "and u.purchase_date between start_date and end_date\n",
    "group by product_id"
   ]
  },
  {
   "cell_type": "code",
   "execution_count": null,
   "metadata": {
    "vscode": {
     "languageId": "plaintext"
    }
   },
   "outputs": [],
   "source": []
  }
 ],
 "metadata": {
  "language_info": {
   "name": "python"
  }
 },
 "nbformat": 4,
 "nbformat_minor": 2
}
