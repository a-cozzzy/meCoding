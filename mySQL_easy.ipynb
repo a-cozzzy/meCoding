{
 "cells": [
  {
   "cell_type": "markdown",
   "metadata": {},
   "source": [
    "## SELECT statements"
   ]
  },
  {
   "cell_type": "code",
   "execution_count": null,
   "metadata": {
    "vscode": {
     "languageId": "plaintext"
    }
   },
   "outputs": [],
   "source": [
    "1757. Recyclable and Low Fat Products\n",
    "\n",
    "SELECT product_id\n",
    "FROM Products \n",
    "WHERE low_fats = 'Y' AND recyclable = 'Y'"
   ]
  },
  {
   "cell_type": "code",
   "execution_count": null,
   "metadata": {
    "vscode": {
     "languageId": "plaintext"
    }
   },
   "outputs": [],
   "source": [
    "584. Find Customer Referee\n",
    "\n",
    "select name\n",
    "from Customer\n",
    "WHERE referee_id <> 2 OR referee_id IS NULL"
   ]
  },
  {
   "cell_type": "code",
   "execution_count": null,
   "metadata": {
    "vscode": {
     "languageId": "plaintext"
    }
   },
   "outputs": [],
   "source": [
    "595. Big Countries\n",
    "\n",
    "SELECT name, population, area\n",
    "FROM World\n",
    "WHERE area>=3000000 or population>=25000000"
   ]
  },
  {
   "cell_type": "code",
   "execution_count": null,
   "metadata": {
    "vscode": {
     "languageId": "plaintext"
    }
   },
   "outputs": [],
   "source": [
    "1148. Article Views I\n",
    "\n",
    "SELECT DISTINCT author_id AS id\n",
    "FROM Views\n",
    "WHERE author_id = viewer_id\n",
    "ORDER BY id;"
   ]
  },
  {
   "cell_type": "code",
   "execution_count": null,
   "metadata": {
    "vscode": {
     "languageId": "plaintext"
    }
   },
   "outputs": [],
   "source": [
    "1683. Invalid Tweets\n",
    "\n",
    "select tweet_id\n",
    "from Tweets\n",
    "where length(content) >15"
   ]
  },
  {
   "cell_type": "markdown",
   "metadata": {},
   "source": [
    "## Basic JOIN"
   ]
  },
  {
   "cell_type": "code",
   "execution_count": null,
   "metadata": {
    "vscode": {
     "languageId": "plaintext"
    }
   },
   "outputs": [],
   "source": [
    "1378. Replace Employee ID With The Unique Identifier\n",
    "\n",
    "select EmployeeUNI.unique_id, Employees.name\n",
    "from Employees \n",
    "left join EmployeeUNI on Employees.id = EmployeeUNI.id"
   ]
  },
  {
   "cell_type": "code",
   "execution_count": null,
   "metadata": {
    "vscode": {
     "languageId": "plaintext"
    }
   },
   "outputs": [],
   "source": [
    "1068. Product Sales Analysis I\n",
    "\n",
    "select Product.product_name, Sales.year, Sales.price\n",
    "from Sales\n",
    "left join Product on Sales.product_id = Product.product_id;"
   ]
  },
  {
   "cell_type": "code",
   "execution_count": null,
   "metadata": {
    "vscode": {
     "languageId": "plaintext"
    }
   },
   "outputs": [],
   "source": [
    "1581. Customer Who Visited but Did Not Make Any Transactions\n",
    "\n",
    "select v.customer_id, count(v.visit_id) as count_no_trans\n",
    "from Visits v\n",
    "left join Transactions t \n",
    "ON v.visit_id = t.visit_id\n",
    "where t.transaction_id is null\n",
    "group by v.customer_id;"
   ]
  },
  {
   "cell_type": "code",
   "execution_count": null,
   "metadata": {
    "vscode": {
     "languageId": "plaintext"
    }
   },
   "outputs": [],
   "source": [
    "197. Rising Temperature\n",
    "\n",
    "select w1.id\n",
    "from Weather w1\n",
    "join Weather w2 on w1.recordDate = DATE_ADD(w2.recordDate, interval 1 day)\n",
    "where w1.temperature > w2.temperature"
   ]
  },
  {
   "cell_type": "code",
   "execution_count": null,
   "metadata": {
    "vscode": {
     "languageId": "plaintext"
    }
   },
   "outputs": [],
   "source": [
    "1661. Average Time of Process per Machine\n",
    "\n",
    "select a1.machine_id, round(avg(a2.timestamp-a1.timestamp), 3) as processing_time \n",
    "from Activity a1\n",
    "join Activity a2 \n",
    "on a1.machine_id=a2.machine_id and a1.process_id=a2.process_id\n",
    "and a1.activity_type='start' and a2.activity_type='end'\n",
    "group by a1.machine_id"
   ]
  },
  {
   "cell_type": "code",
   "execution_count": null,
   "metadata": {
    "vscode": {
     "languageId": "plaintext"
    }
   },
   "outputs": [],
   "source": [
    "577. Employee Bonus\n",
    "\n",
    "select e.name, b.bonus\n",
    "from Employee e\n",
    "left join Bonus b on e.empId = b.empId\n",
    "where bonus<1000 or bonus is null;"
   ]
  },
  {
   "cell_type": "code",
   "execution_count": null,
   "metadata": {
    "vscode": {
     "languageId": "plaintext"
    }
   },
   "outputs": [],
   "source": [
    "1280. Students and Examinations\n",
    "\n",
    "select s.student_id, s.student_name, sub.subject_name, coalesce(count(e.student_id),0) as attended_exams\n",
    "from Students s\n",
    "cross join Subjects sub\n",
    "left join Examinations e \n",
    "on s.student_id = e.student_id\n",
    "and sub.subject_name = e.subject_name\n",
    "group by s.student_id, s.student_name, sub.subject_name\n",
    "order by s.student_id, sub.subject_name;"
   ]
  },
  {
   "cell_type": "code",
   "execution_count": null,
   "metadata": {
    "vscode": {
     "languageId": "plaintext"
    }
   },
   "outputs": [],
   "source": [
    "570. Managers with at Least 5 Direct Reports\n",
    "\n",
    "select e.name from Employee e\n",
    "inner join Employee m on e.id = m.managerId\n",
    "group by m.managerId\n",
    "having count(m.managerId) >=5"
   ]
  },
  {
   "cell_type": "code",
   "execution_count": null,
   "metadata": {
    "vscode": {
     "languageId": "plaintext"
    }
   },
   "outputs": [],
   "source": [
    "1934. Confirmation Rate\n",
    "\n",
    "select s.user_id, round(avg(if(c.action=\"confirmed\",1,0)),2) as confirmation_rate\n",
    "from Signups s\n",
    "left join Confirmations c \n",
    "on s.user_id = c.user_id\n",
    "group by user_id"
   ]
  },
  {
   "cell_type": "markdown",
   "metadata": {},
   "source": [
    "## Basic Aggregate Functions"
   ]
  },
  {
   "cell_type": "code",
   "execution_count": null,
   "metadata": {
    "vscode": {
     "languageId": "plaintext"
    }
   },
   "outputs": [],
   "source": [
    "620. Not Boring Movies\n",
    "\n",
    "select * \n",
    "from Cinema \n",
    "where id%2!=0 and description != \"boring\" \n",
    "order by rating desc;"
   ]
  },
  {
   "cell_type": "code",
   "execution_count": null,
   "metadata": {
    "vscode": {
     "languageId": "plaintext"
    }
   },
   "outputs": [],
   "source": [
    "1251. Average Selling Price\n",
    "\n",
    "select p.product_id, ifnull(round(sum(u.units*p.price)/nullif(sum(u.units),0),2),0) as average_price\n",
    "from Prices p\n",
    "left join UnitsSold u on p.product_id = u.product_id\n",
    "and u.purchase_date between start_date and end_date\n",
    "group by product_id"
   ]
  },
  {
   "cell_type": "code",
   "execution_count": null,
   "metadata": {
    "vscode": {
     "languageId": "plaintext"
    }
   },
   "outputs": [],
   "source": [
    "1075. Project Employees I\n",
    "\n",
    "select p.project_id, round(avg(experience_years),2) as average_years\n",
    "from Project p\n",
    "left join Employee e \n",
    "on p.employee_id = e.employee_id\n",
    "group by p.project_id"
   ]
  },
  {
   "cell_type": "code",
   "execution_count": null,
   "metadata": {
    "vscode": {
     "languageId": "plaintext"
    }
   },
   "outputs": [],
   "source": [
    "1633. Percentage of Users Attended a Contest\n",
    "\n",
    "select r.contest_id, round((count(r.user_id)*100/(SELECT COUNT(*) FROM Users)),2) as percentage\n",
    "from Register r\n",
    "group by r.contest_id \n",
    "order by percentage desc,\n",
    "r.contest_id asc;"
   ]
  },
  {
   "cell_type": "code",
   "execution_count": null,
   "metadata": {
    "vscode": {
     "languageId": "plaintext"
    }
   },
   "outputs": [],
   "source": [
    "1211. Queries Quality and Percentage\n",
    "\n",
    "select query_name, \n",
    "    round(sum(rating/position)/count(query_name),2) as quality, \n",
    "    round((sum(case when rating < 3 then 1 else 0 end) * 100/count(query_name)),2) as poor_query_percentage\n",
    "from Queries\n",
    "group by query_name\n",
    "having query_name is not null"
   ]
  },
  {
   "cell_type": "code",
   "execution_count": null,
   "metadata": {
    "vscode": {
     "languageId": "plaintext"
    }
   },
   "outputs": [],
   "source": [
    "1193. Monthly Transactions I\n",
    "\n",
    "SELECT \n",
    "    DATE_FORMAT(trans_date, '%Y-%m') AS month,\n",
    "    country,\n",
    "    COUNT(*) AS trans_count,\n",
    "    SUM(CASE WHEN state = 'approved' THEN 1 ELSE 0 END) AS approved_count,\n",
    "    SUM(amount) AS trans_total_amount,\n",
    "    SUM(CASE WHEN state = 'approved' THEN amount ELSE 0 END) AS approved_total_amount\n",
    "FROM \n",
    "    Transactions\n",
    "GROUP BY \n",
    "    DATE_FORMAT(trans_date, '%Y-%m'), country\n",
    "ORDER BY \n",
    "    month, country;\n",
    "\n",
    "or      GROUP BY \n",
    "            1,2\n"
   ]
  },
  {
   "cell_type": "code",
   "execution_count": null,
   "metadata": {
    "vscode": {
     "languageId": "plaintext"
    }
   },
   "outputs": [],
   "source": [
    "1174. Immediate Food Delivery II\n",
    "\n",
    "Select \n",
    "    round(avg(order_date = customer_pref_delivery_date)*100, 2) as immediate_percentage\n",
    "from Delivery\n",
    "where (customer_id, order_date) in (\n",
    "  Select customer_id, min(order_date) \n",
    "  from Delivery\n",
    "  group by customer_id\n",
    ");"
   ]
  },
  {
   "cell_type": "code",
   "execution_count": null,
   "metadata": {
    "vscode": {
     "languageId": "plaintext"
    }
   },
   "outputs": [],
   "source": [
    "550. Game Play Analysis IV\n",
    "\n",
    "WITH FirstLogins AS (\n",
    "    SELECT \n",
    "        player_id,\n",
    "        MIN(event_date) AS first_login\n",
    "    FROM \n",
    "        Activity\n",
    "    GROUP BY \n",
    "        player_id\n",
    ")\n",
    "\n",
    "SELECT\n",
    "    ROUND(COUNT(DISTINCT a.player_id) / (SELECT COUNT(DISTINCT player_id) FROM Activity), 2) AS fraction\n",
    "FROM \n",
    "    Activity a\n",
    "JOIN \n",
    "    FirstLogins fl ON a.player_id = fl.player_id\n",
    "WHERE \n",
    "    a.event_date = DATE_ADD(fl.first_login, INTERVAL 1 DAY);\n"
   ]
  },
  {
   "cell_type": "markdown",
   "metadata": {},
   "source": [
    "## Sorting and Grouping"
   ]
  },
  {
   "cell_type": "code",
   "execution_count": null,
   "metadata": {
    "vscode": {
     "languageId": "plaintext"
    }
   },
   "outputs": [],
   "source": [
    "2356. Number of Unique Subjects Taught by Each Teacher\n",
    "\n",
    "select teacher_id, count(distinct subject_id) as cnt\n",
    "from Teacher\n",
    "group by teacher_id"
   ]
  },
  {
   "cell_type": "code",
   "execution_count": null,
   "metadata": {
    "vscode": {
     "languageId": "plaintext"
    }
   },
   "outputs": [],
   "source": [
    "1141. User Activity for the Past 30 Days I\n",
    "\n",
    "select \n",
    "    activity_date AS day,\n",
    "    count(distinct user_id) AS active_users\n",
    "from activity\n",
    "where activity_date BETWEEN '2019-06-28' AND '2019-07-27'\n",
    "group by activity_date;"
   ]
  },
  {
   "cell_type": "code",
   "execution_count": null,
   "metadata": {
    "vscode": {
     "languageId": "plaintext"
    }
   },
   "outputs": [],
   "source": [
    "1070. Product Sales Analysis III\n",
    "\n",
    "select product_id, year as first_year, quantity, price\n",
    "from Sales \n",
    "where(product_id,year) in (select product_id, min(year) from Sales group by product_id)"
   ]
  },
  {
   "cell_type": "code",
   "execution_count": null,
   "metadata": {
    "vscode": {
     "languageId": "plaintext"
    }
   },
   "outputs": [],
   "source": [
    "596. Classes More Than 5 Students\n",
    "\n",
    "select class\n",
    "from Courses\n",
    "group by class\n",
    "having count(class) >4"
   ]
  },
  {
   "cell_type": "code",
   "execution_count": null,
   "metadata": {
    "vscode": {
     "languageId": "plaintext"
    }
   },
   "outputs": [],
   "source": [
    "1729. Find Followers Count\n",
    "\n",
    "select user_id, count(2) as followers_count\n",
    "from Followers\n",
    "group by user_id\n",
    "order by user_id asc;"
   ]
  },
  {
   "cell_type": "code",
   "execution_count": null,
   "metadata": {
    "vscode": {
     "languageId": "plaintext"
    }
   },
   "outputs": [],
   "source": [
    "619. Biggest Single Number\n",
    "\n",
    "SELECT MAX(num) AS num\n",
    "FROM (\n",
    "    SELECT num\n",
    "    FROM MyNumbers\n",
    "    GROUP BY num\n",
    "    HAVING COUNT(num) = 1\n",
    ") AS unique_numbers;"
   ]
  },
  {
   "cell_type": "code",
   "execution_count": null,
   "metadata": {
    "vscode": {
     "languageId": "plaintext"
    }
   },
   "outputs": [],
   "source": [
    "1045. Customers Who Bought All Products\n",
    "\n",
    "select customer_id from Customer group by customer_id\n",
    "having count(distinct product_key) = (select count(product_key) from Product)"
   ]
  },
  {
   "cell_type": "markdown",
   "metadata": {},
   "source": [
    "## Advanced Select and Joins"
   ]
  },
  {
   "cell_type": "code",
   "execution_count": null,
   "metadata": {
    "vscode": {
     "languageId": "plaintext"
    }
   },
   "outputs": [],
   "source": [
    "1731. The Number of Employees Which Report to Each Employee\n",
    "\n",
    "select e.employee_id, e.name, count(*) as reports_count, round(avg(e1.age)) as average_age\n",
    "from Employees e \n",
    "join Employees e1 on e.employee_id = e1.reports_to\n",
    "group by e.employee_id\n",
    "order by e.employee_id"
   ]
  },
  {
   "cell_type": "code",
   "execution_count": null,
   "metadata": {
    "vscode": {
     "languageId": "plaintext"
    }
   },
   "outputs": [],
   "source": [
    "1789. Primary Department for Each Employee\n",
    "\n",
    "select distinct employee_id, department_id\n",
    "from Employee\n",
    "where primary_flag = 'Y' \n",
    "union\n",
    "select distinct employee_id, department_id\n",
    "from Employee\n",
    "group by employee_id\n",
    "having count(employee_id) = 1"
   ]
  },
  {
   "cell_type": "code",
   "execution_count": null,
   "metadata": {
    "vscode": {
     "languageId": "plaintext"
    }
   },
   "outputs": [],
   "source": [
    "610. Triangle Judgement\n",
    "\n",
    "SELECT x,y,z,\n",
    "    CASE\n",
    "        WHEN (x+y > z AND y+z > x AND z+x > y) THEN 'Yes'\n",
    "        ELSE 'No'\n",
    "    END AS triangle\n",
    "FROM Triangle"
   ]
  },
  {
   "cell_type": "code",
   "execution_count": null,
   "metadata": {
    "vscode": {
     "languageId": "plaintext"
    }
   },
   "outputs": [],
   "source": [
    "180. Consecutive Numbers\n",
    "\n",
    "select distinct l1.Num as ConsecutiveNums\n",
    "from Logs l1, Logs l2, Logs l3\n",
    "where l1.Id = l2.Id -1\n",
    "and l2.Id= l3.Id-1\n",
    "and l1.Num=l2.Num and l2.Num=l3.Num"
   ]
  },
  {
   "cell_type": "code",
   "execution_count": null,
   "metadata": {
    "vscode": {
     "languageId": "plaintext"
    }
   },
   "outputs": [],
   "source": [
    "1164. Product Price at a Given Date\n",
    "\n",
    "select distinct product_id,10 as price\n",
    "from Products\n",
    "group by product_id\n",
    "having min(change_date)>'2019-08-16'\n",
    "union all\n",
    "SELECT\n",
    "  product_id,\n",
    "  new_price AS price\n",
    "FROM\n",
    "  Products\n",
    "WHERE\n",
    "  (product_id, change_date) IN (\n",
    "    SELECT\n",
    "      product_id,\n",
    "      MAX(change_date)\n",
    "    FROM\n",
    "      Products\n",
    "    WHERE\n",
    "      change_date <= '2019-08-16'\n",
    "    GROUP BY\n",
    "      product_id\n",
    "  )"
   ]
  },
  {
   "cell_type": "code",
   "execution_count": null,
   "metadata": {
    "vscode": {
     "languageId": "plaintext"
    }
   },
   "outputs": [],
   "source": [
    "1204. Last Person to Fit in the Bus\n",
    "\n",
    "select q1.person_name from Queue q1 join Queue q2 on q1.turn >= q2.turn\n",
    "group by q1.person_name, q1.turn \n",
    "having sum(q2.weight)<=1000\n",
    "order by sum(q2.weight) desc\n",
    "limit 1;"
   ]
  },
  {
   "cell_type": "code",
   "execution_count": null,
   "metadata": {
    "vscode": {
     "languageId": "plaintext"
    }
   },
   "outputs": [],
   "source": [
    "1907. Count Salary Categories\n",
    "\n",
    "SELECT \n",
    "    'Low Salary' AS category,\n",
    "    COUNT(CASE WHEN a.income < 20000 THEN 1 END) AS accounts_count\n",
    "FROM accounts a\n",
    "UNION ALL\n",
    "SELECT \n",
    "    'Average Salary' AS category,\n",
    "    COUNT(CASE WHEN a.income BETWEEN 20000 AND 50000 THEN 1 END) AS accounts_count\n",
    "FROM accounts a\n",
    "UNION ALL\n",
    "SELECT \n",
    "    'High Salary' AS category,\n",
    "    COUNT(CASE WHEN a.income > 50000 THEN 1 END) AS accounts_count\n",
    "FROM accounts a;"
   ]
  },
  {
   "cell_type": "markdown",
   "metadata": {},
   "source": [
    "## Subqueries"
   ]
  },
  {
   "cell_type": "code",
   "execution_count": null,
   "metadata": {
    "vscode": {
     "languageId": "plaintext"
    }
   },
   "outputs": [],
   "source": [
    "1978. Employees Whose Manager Left the Company\n",
    "\n",
    "select employee_id\n",
    "from Employees\n",
    "where salary<30000 and manager_id not in (select employee_id from Employees )\n",
    "order by employee_id asc;"
   ]
  },
  {
   "cell_type": "code",
   "execution_count": null,
   "metadata": {
    "vscode": {
     "languageId": "plaintext"
    }
   },
   "outputs": [],
   "source": [
    "626. Exchange Seats\n",
    "\n",
    "select s.id, coalesce(c.student, s.student) as student from Seat s\n",
    "left join Seat c\n",
    "on\n",
    "(s.id%2!=0 and s.id+1=c.id) or (s.id%2=0 and s.id-1=c.id);\n"
   ]
  },
  {
   "cell_type": "code",
   "execution_count": null,
   "metadata": {
    "vscode": {
     "languageId": "plaintext"
    }
   },
   "outputs": [],
   "source": [
    "1341. Movie Rating\n",
    "\n",
    "(\n",
    "    SELECT \n",
    "        u.name AS results\n",
    "    FROM users u\n",
    "    JOIN MovieRating mr ON u.user_id = mr.user_id\n",
    "    GROUP BY u.user_id\n",
    "    ORDER BY COUNT(mr.movie_id) DESC, u.name\n",
    "    LIMIT 1\n",
    ")\n",
    "\n",
    "UNION ALL\n",
    "\n",
    "(\n",
    "    SELECT \n",
    "        m.title AS results\n",
    "    FROM Movies m\n",
    "    JOIN MovieRating mr ON m.movie_id = mr.movie_id\n",
    "    WHERE DATE_FORMAT(mr.created_at, '%Y-%m') = '2020-02'\n",
    "    GROUP BY m.movie_id\n",
    "    ORDER BY AVG(mr.rating) DESC, m.title\n",
    "    LIMIT 1\n",
    ");\n"
   ]
  },
  {
   "cell_type": "code",
   "execution_count": null,
   "metadata": {
    "vscode": {
     "languageId": "plaintext"
    }
   },
   "outputs": [],
   "source": [
    "1321. Restaurant Growth\n",
    "\n",
    "select visited_on, (select sum(amount) from customer where visited_on between date_sub(c.visited_on,interval 6 day) and c.visited_on) as amount,\n",
    "    round((select sum(amount)/7 from customer where visited_on between date_sub(c.visited_on,interval 6 day) and c.visited_on),2) as average_amount\n",
    "from customer c\n",
    "where visited_on >= (select date_add(min(visited_on),interval 6 day) from customer)\n",
    "group by visited_on;"
   ]
  },
  {
   "cell_type": "code",
   "execution_count": null,
   "metadata": {
    "vscode": {
     "languageId": "plaintext"
    }
   },
   "outputs": [],
   "source": [
    "602. Friend Requests II: Who Has the Most Friends\n",
    "\n",
    "select id, count(*) as num \n",
    "from (\n",
    "    select requester_id as id \n",
    "    from requestaccepted\n",
    "    union all\n",
    "    select accepter_id as id \n",
    "    from requestaccepted\n",
    ") request\n",
    "group by id\n",
    "order by count(*) desc\n",
    "limit 1\n",
    "\n"
   ]
  },
  {
   "cell_type": "code",
   "execution_count": null,
   "metadata": {
    "vscode": {
     "languageId": "plaintext"
    }
   },
   "outputs": [],
   "source": [
    "585. Investments in 2016\n",
    "\n",
    "SELECT \n",
    "    ROUND(SUM(tiv_2016), 2) AS tiv_2016\n",
    "FROM \n",
    "    Insurance AS i1\n",
    "WHERE\n",
    "    tiv_2015 IN (\n",
    "        SELECT tiv_2015\n",
    "        FROM Insurance\n",
    "        GROUP BY tiv_2015\n",
    "        HAVING COUNT(*) > 1\n",
    "    )\n",
    "    AND (lat, lon) IN (\n",
    "        SELECT lat, lon\n",
    "        FROM Insurance\n",
    "        GROUP BY lat, lon\n",
    "        HAVING COUNT(*) = 1\n",
    "    );"
   ]
  },
  {
   "cell_type": "code",
   "execution_count": null,
   "metadata": {
    "vscode": {
     "languageId": "plaintext"
    }
   },
   "outputs": [],
   "source": []
  },
  {
   "cell_type": "markdown",
   "metadata": {},
   "source": [
    "## Advanced String Functions / Regex / Clause"
   ]
  },
  {
   "cell_type": "code",
   "execution_count": null,
   "metadata": {
    "vscode": {
     "languageId": "plaintext"
    }
   },
   "outputs": [],
   "source": [
    "1667. Fix Names in a Table\n",
    "\n",
    "SELECT\n",
    "    user_id,\n",
    "    CONCAT(UPPER(SUBSTRING(name, 1, 1)), LOWER(SUBSTRING(name, 2))) AS name\n",
    "FROM\n",
    "    Users\n",
    "ORDER BY\n",
    "    user_id;"
   ]
  },
  {
   "cell_type": "code",
   "execution_count": null,
   "metadata": {
    "vscode": {
     "languageId": "plaintext"
    }
   },
   "outputs": [],
   "source": [
    "1527. Patients With a Condition\n",
    "\n",
    "select * from Patients\n",
    "where conditions like \"DIAB1%\"\n",
    "or conditions like \"% DIAB1%\""
   ]
  },
  {
   "cell_type": "code",
   "execution_count": null,
   "metadata": {
    "vscode": {
     "languageId": "plaintext"
    }
   },
   "outputs": [],
   "source": [
    "196. Delete Duplicate Emails\n",
    "\n",
    "delete p1 from Person p1, Person p2\n",
    "where p1.email = p2.email and p1.id > p2.id"
   ]
  }
 ],
 "metadata": {
  "language_info": {
   "name": "python"
  }
 },
 "nbformat": 4,
 "nbformat_minor": 2
}
