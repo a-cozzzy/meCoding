{
 "cells": [
  {
   "cell_type": "markdown",
   "metadata": {},
   "source": [
    "## SELECT statements"
   ]
  },
  {
   "cell_type": "code",
   "execution_count": null,
   "metadata": {
    "vscode": {
     "languageId": "plaintext"
    }
   },
   "outputs": [],
   "source": [
    "1757. Recyclable and Low Fat Products\n",
    "\n",
    "SELECT product_id\n",
    "FROM Products \n",
    "WHERE low_fats = 'Y' AND recyclable = 'Y'"
   ]
  },
  {
   "cell_type": "code",
   "execution_count": null,
   "metadata": {
    "vscode": {
     "languageId": "plaintext"
    }
   },
   "outputs": [],
   "source": [
    "584. Find Customer Referee\n",
    "\n",
    "select name\n",
    "from Customer\n",
    "WHERE referee_id <> 2 OR referee_id IS NULL"
   ]
  },
  {
   "cell_type": "code",
   "execution_count": null,
   "metadata": {
    "vscode": {
     "languageId": "plaintext"
    }
   },
   "outputs": [],
   "source": [
    "595. Big Countries\n",
    "\n",
    "SELECT name, population, area\n",
    "FROM World\n",
    "WHERE area>=3000000 or population>=25000000"
   ]
  },
  {
   "cell_type": "code",
   "execution_count": null,
   "metadata": {
    "vscode": {
     "languageId": "plaintext"
    }
   },
   "outputs": [],
   "source": [
    "1148. Article Views I\n",
    "\n",
    "SELECT DISTINCT author_id AS id\n",
    "FROM Views\n",
    "WHERE author_id = viewer_id\n",
    "ORDER BY id;"
   ]
  },
  {
   "cell_type": "code",
   "execution_count": null,
   "metadata": {
    "vscode": {
     "languageId": "plaintext"
    }
   },
   "outputs": [],
   "source": [
    "1683. Invalid Tweets\n",
    "\n",
    "select tweet_id\n",
    "from Tweets\n",
    "where length(content) >15"
   ]
  },
  {
   "cell_type": "markdown",
   "metadata": {},
   "source": [
    "## Basic JOIN"
   ]
  },
  {
   "cell_type": "code",
   "execution_count": null,
   "metadata": {
    "vscode": {
     "languageId": "plaintext"
    }
   },
   "outputs": [],
   "source": [
    "1378. Replace Employee ID With The Unique Identifier\n",
    "\n",
    "select EmployeeUNI.unique_id, Employees.name\n",
    "from Employees \n",
    "left join EmployeeUNI on Employees.id = EmployeeUNI.id"
   ]
  },
  {
   "cell_type": "code",
   "execution_count": null,
   "metadata": {
    "vscode": {
     "languageId": "plaintext"
    }
   },
   "outputs": [],
   "source": [
    "1068. Product Sales Analysis I\n",
    "\n",
    "select Product.product_name, Sales.year, Sales.price\n",
    "from Sales\n",
    "left join Product on Sales.product_id = Product.product_id;"
   ]
  },
  {
   "cell_type": "code",
   "execution_count": null,
   "metadata": {
    "vscode": {
     "languageId": "plaintext"
    }
   },
   "outputs": [],
   "source": [
    "1581. Customer Who Visited but Did Not Make Any Transactions\n",
    "\n",
    "select v.customer_id, count(v.visit_id) as count_no_trans\n",
    "from Visits v\n",
    "left join Transactions t \n",
    "ON v.visit_id = t.visit_id\n",
    "where t.transaction_id is null\n",
    "group by v.customer_id;"
   ]
  },
  {
   "cell_type": "code",
   "execution_count": null,
   "metadata": {
    "vscode": {
     "languageId": "plaintext"
    }
   },
   "outputs": [],
   "source": [
    "197. Rising Temperature\n",
    "\n",
    "select w1.id\n",
    "from Weather w1\n",
    "join Weather w2 on w1.recordDate = DATE_ADD(w2.recordDate, interval 1 day)\n",
    "where w1.temperature > w2.temperature"
   ]
  },
  {
   "cell_type": "code",
   "execution_count": null,
   "metadata": {
    "vscode": {
     "languageId": "plaintext"
    }
   },
   "outputs": [],
   "source": [
    "1661. Average Time of Process per Machine\n",
    "\n",
    "select a1.machine_id, round(avg(a2.timestamp-a1.timestamp), 3) as processing_time \n",
    "from Activity a1\n",
    "join Activity a2 \n",
    "on a1.machine_id=a2.machine_id and a1.process_id=a2.process_id\n",
    "and a1.activity_type='start' and a2.activity_type='end'\n",
    "group by a1.machine_id"
   ]
  },
  {
   "cell_type": "code",
   "execution_count": null,
   "metadata": {
    "vscode": {
     "languageId": "plaintext"
    }
   },
   "outputs": [],
   "source": [
    "577. Employee Bonus\n",
    "\n",
    "select e.name, b.bonus\n",
    "from Employee e\n",
    "left join Bonus b on e.empId = b.empId\n",
    "where bonus<1000 or bonus is null;"
   ]
  },
  {
   "cell_type": "code",
   "execution_count": null,
   "metadata": {
    "vscode": {
     "languageId": "plaintext"
    }
   },
   "outputs": [],
   "source": [
    "1280. Students and Examinations\n",
    "\n",
    "select s.student_id, s.student_name, sub.subject_name, coalesce(count(e.student_id),0) as attended_exams\n",
    "from Students s\n",
    "cross join Subjects sub\n",
    "left join Examinations e \n",
    "on s.student_id = e.student_id\n",
    "and sub.subject_name = e.subject_name\n",
    "group by s.student_id, s.student_name, sub.subject_name\n",
    "order by s.student_id, sub.subject_name;"
   ]
  },
  {
   "cell_type": "code",
   "execution_count": null,
   "metadata": {
    "vscode": {
     "languageId": "plaintext"
    }
   },
   "outputs": [],
   "source": [
    "570. Managers with at Least 5 Direct Reports\n",
    "\n",
    "select e.name from Employee e\n",
    "inner join Employee m on e.id = m.managerId\n",
    "group by m.managerId\n",
    "having count(m.managerId) >=5"
   ]
  },
  {
   "cell_type": "code",
   "execution_count": null,
   "metadata": {
    "vscode": {
     "languageId": "plaintext"
    }
   },
   "outputs": [],
   "source": [
    "1934. Confirmation Rate\n",
    "\n",
    "select s.user_id, round(avg(if(c.action=\"confirmed\",1,0)),2) as confirmation_rate\n",
    "from Signups s\n",
    "left join Confirmations c \n",
    "on s.user_id = c.user_id\n",
    "group by user_id"
   ]
  },
  {
   "cell_type": "markdown",
   "metadata": {},
   "source": [
    "## Basic Aggregate Functions"
   ]
  },
  {
   "cell_type": "code",
   "execution_count": null,
   "metadata": {
    "vscode": {
     "languageId": "plaintext"
    }
   },
   "outputs": [],
   "source": [
    "620. Not Boring Movies\n",
    "\n",
    "select * \n",
    "from Cinema \n",
    "where id%2!=0 and description != \"boring\" \n",
    "order by rating desc;"
   ]
  },
  {
   "cell_type": "code",
   "execution_count": null,
   "metadata": {
    "vscode": {
     "languageId": "plaintext"
    }
   },
   "outputs": [],
   "source": [
    "1251. Average Selling Price\n",
    "\n",
    "select p.product_id, ifnull(round(sum(u.units*p.price)/nullif(sum(u.units),0),2),0) as average_price\n",
    "from Prices p\n",
    "left join UnitsSold u on p.product_id = u.product_id\n",
    "and u.purchase_date between start_date and end_date\n",
    "group by product_id"
   ]
  },
  {
   "cell_type": "code",
   "execution_count": null,
   "metadata": {
    "vscode": {
     "languageId": "plaintext"
    }
   },
   "outputs": [],
   "source": [
    "1075. Project Employees I\n",
    "\n",
    "select p.project_id, round(avg(experience_years),2) as average_years\n",
    "from Project p\n",
    "left join Employee e \n",
    "on p.employee_id = e.employee_id\n",
    "group by p.project_id"
   ]
  },
  {
   "cell_type": "code",
   "execution_count": null,
   "metadata": {
    "vscode": {
     "languageId": "plaintext"
    }
   },
   "outputs": [],
   "source": [
    "1633. Percentage of Users Attended a Contest\n",
    "\n",
    "select r.contest_id, round((count(r.user_id)*100/(SELECT COUNT(*) FROM Users)),2) as percentage\n",
    "from Register r\n",
    "group by r.contest_id \n",
    "order by percentage desc,\n",
    "r.contest_id asc;"
   ]
  },
  {
   "cell_type": "code",
   "execution_count": null,
   "metadata": {
    "vscode": {
     "languageId": "plaintext"
    }
   },
   "outputs": [],
   "source": [
    "1211. Queries Quality and Percentage\n",
    "\n",
    "select query_name, \n",
    "    round(sum(rating/position)/count(query_name),2) as quality, \n",
    "    round((sum(case when rating < 3 then 1 else 0 end) * 100/count(query_name)),2) as poor_query_percentage\n",
    "from Queries\n",
    "group by query_name\n",
    "having query_name is not null"
   ]
  },
  {
   "cell_type": "code",
   "execution_count": null,
   "metadata": {
    "vscode": {
     "languageId": "plaintext"
    }
   },
   "outputs": [],
   "source": [
    "1193. Monthly Transactions I\n",
    "\n",
    "SELECT \n",
    "    DATE_FORMAT(trans_date, '%Y-%m') AS month,\n",
    "    country,\n",
    "    COUNT(*) AS trans_count,\n",
    "    SUM(CASE WHEN state = 'approved' THEN 1 ELSE 0 END) AS approved_count,\n",
    "    SUM(amount) AS trans_total_amount,\n",
    "    SUM(CASE WHEN state = 'approved' THEN amount ELSE 0 END) AS approved_total_amount\n",
    "FROM \n",
    "    Transactions\n",
    "GROUP BY \n",
    "    DATE_FORMAT(trans_date, '%Y-%m'), country\n",
    "ORDER BY \n",
    "    month, country;\n",
    "\n",
    "or      GROUP BY \n",
    "            1,2\n"
   ]
  },
  {
   "cell_type": "code",
   "execution_count": null,
   "metadata": {
    "vscode": {
     "languageId": "plaintext"
    }
   },
   "outputs": [],
   "source": [
    "1174. Immediate Food Delivery II\n",
    "\n",
    "Select \n",
    "    round(avg(order_date = customer_pref_delivery_date)*100, 2) as immediate_percentage\n",
    "from Delivery\n",
    "where (customer_id, order_date) in (\n",
    "  Select customer_id, min(order_date) \n",
    "  from Delivery\n",
    "  group by customer_id\n",
    ");"
   ]
  },
  {
   "cell_type": "code",
   "execution_count": null,
   "metadata": {
    "vscode": {
     "languageId": "plaintext"
    }
   },
   "outputs": [],
   "source": [
    "550. Game Play Analysis IV\n",
    "\n",
    "WITH FirstLogins AS (\n",
    "    SELECT \n",
    "        player_id,\n",
    "        MIN(event_date) AS first_login\n",
    "    FROM \n",
    "        Activity\n",
    "    GROUP BY \n",
    "        player_id\n",
    ")\n",
    "\n",
    "SELECT\n",
    "    ROUND(COUNT(DISTINCT a.player_id) / (SELECT COUNT(DISTINCT player_id) FROM Activity), 2) AS fraction\n",
    "FROM \n",
    "    Activity a\n",
    "JOIN \n",
    "    FirstLogins fl ON a.player_id = fl.player_id\n",
    "WHERE \n",
    "    a.event_date = DATE_ADD(fl.first_login, INTERVAL 1 DAY);\n"
   ]
  },
  {
   "cell_type": "markdown",
   "metadata": {},
   "source": [
    "## Sorting and Grouping"
   ]
  },
  {
   "cell_type": "code",
   "execution_count": null,
   "metadata": {
    "vscode": {
     "languageId": "plaintext"
    }
   },
   "outputs": [],
   "source": [
    "2356. Number of Unique Subjects Taught by Each Teacher\n",
    "\n",
    "select teacher_id, count(distinct subject_id) as cnt\n",
    "from Teacher\n",
    "group by teacher_id"
   ]
  },
  {
   "cell_type": "code",
   "execution_count": null,
   "metadata": {
    "vscode": {
     "languageId": "plaintext"
    }
   },
   "outputs": [],
   "source": [
    "1141. User Activity for the Past 30 Days I\n",
    "\n",
    "SELECT \n",
    "    activity_date AS day,\n",
    "    COUNT(DISTINCT user_id) AS active_users\n",
    "FROM activity\n",
    "WHERE activity_date BETWEEN '2019-06-28' AND '2019-07-27'\n",
    "GROUP BY activity_date;"
   ]
  },
  {
   "cell_type": "code",
   "execution_count": null,
   "metadata": {
    "vscode": {
     "languageId": "plaintext"
    }
   },
   "outputs": [],
   "source": []
  }
 ],
 "metadata": {
  "language_info": {
   "name": "python"
  }
 },
 "nbformat": 4,
 "nbformat_minor": 2
}
